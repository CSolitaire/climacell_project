{
 "cells": [
  {
   "cell_type": "code",
   "execution_count": 48,
   "metadata": {},
   "outputs": [],
   "source": [
    "import requests\n",
    "import pandas as pd\n",
    "import matplotlib.pyplot as plt\n",
    "from env import key, client\n",
    "import datetime\n",
    "from datetime import date\n",
    "from datetime import datetime, timedelta\n",
    "from dateutil.relativedelta import *\n",
    "\n",
    "import re\n",
    "\n",
    "import json\n",
    "\n",
    "import climacell_api "
   ]
  },
  {
   "cell_type": "code",
   "execution_count": 2,
   "metadata": {},
   "outputs": [],
   "source": [
    "# # This request is the San Antonio Botanical Garden. It returns realtime data for the identified fields.\n",
    "# response = client.realtime(lat= 29.4576, lon=98.4587, \n",
    "#                            fields=['precipitation', 'temp', 'humidity', 'wind_speed', 'cloud_cover'])\n",
    "# # Returns status code (Query Successful or Not)\n",
    "# print(response.status_code)\n",
    "# # Create df of results to visualize\n",
    "# data = response.json()\n",
    "# df = pd.DataFrame(data)\n",
    "# df.head()"
   ]
  },
  {
   "cell_type": "code",
   "execution_count": 3,
   "metadata": {},
   "outputs": [],
   "source": [
    "# #from climacell_api import ClimacellApiClient\n",
    "# r = client.historical_station(lat=40, lon=50, start_time='2021-01-22T20:47:00Z', end_time='now', fields=['temp', 'wind_gust'])\n",
    "# r.status_code"
   ]
  },
  {
   "cell_type": "markdown",
   "metadata": {},
   "source": [
    "## Historical Climacell\n",
    "`Data returned is a list of forecast data for a specific location up to 6 hours in the past.`"
   ]
  },
  {
   "cell_type": "code",
   "execution_count": 4,
   "metadata": {},
   "outputs": [],
   "source": [
    "# stop = datetime.now().isoformat()\n",
    "# start = (datetime.now() - timedelta(hours=6)).isoformat()\n",
    "\n",
    "# url = \"https://api.climacell.co/v3/weather/historical/climacell\"\n",
    "\n",
    "# querystring = {'lat': 40, \n",
    "#                'lon': 50,\n",
    "#                \"timestep\":30,\n",
    "#                \"unit_system\":\"si\",\n",
    "#                \"apikey\":key, \n",
    "#                \"start_time\": start, \n",
    "#                \"end_time\": stop }\n",
    "\n",
    "# response = requests.request(\"GET\", url, params=querystring)\n",
    "# data = response.json()\n",
    "# df_clima = pd.DataFrame(data)\n",
    "# df_clima.head(5)"
   ]
  },
  {
   "cell_type": "markdown",
   "metadata": {},
   "source": [
    "## Historical Station\n",
    "`24 hours in the past'"
   ]
  },
  {
   "cell_type": "code",
   "execution_count": 62,
   "metadata": {},
   "outputs": [
    {
     "data": {
      "text/html": [
       "<div>\n",
       "<style scoped>\n",
       "    .dataframe tbody tr th:only-of-type {\n",
       "        vertical-align: middle;\n",
       "    }\n",
       "\n",
       "    .dataframe tbody tr th {\n",
       "        vertical-align: top;\n",
       "    }\n",
       "\n",
       "    .dataframe thead th {\n",
       "        text-align: right;\n",
       "    }\n",
       "</style>\n",
       "<table border=\"1\" class=\"dataframe\">\n",
       "  <thead>\n",
       "    <tr style=\"text-align: right;\">\n",
       "      <th></th>\n",
       "      <th>temp</th>\n",
       "      <th>baro_pressure</th>\n",
       "      <th>humidity</th>\n",
       "      <th>precipitation</th>\n",
       "      <th>observation_time</th>\n",
       "    </tr>\n",
       "  </thead>\n",
       "  <tbody>\n",
       "    <tr>\n",
       "      <th>0</th>\n",
       "      <td>{'value': 14, 'units': 'C'}</td>\n",
       "      <td>{'value': 1022, 'units': 'hPa'}</td>\n",
       "      <td>{'value': None, 'units': '%'}</td>\n",
       "      <td>{'value': None, 'units': 'mm/hr'}</td>\n",
       "      <td>{'value': '2021-01-24T16:00:00.000Z'}</td>\n",
       "    </tr>\n",
       "    <tr>\n",
       "      <th>1</th>\n",
       "      <td>{'value': 13, 'units': 'C'}</td>\n",
       "      <td>{'value': 1022, 'units': 'hPa'}</td>\n",
       "      <td>{'value': None, 'units': '%'}</td>\n",
       "      <td>{'value': None, 'units': 'mm/hr'}</td>\n",
       "      <td>{'value': '2021-01-24T17:00:00.000Z'}</td>\n",
       "    </tr>\n",
       "    <tr>\n",
       "      <th>2</th>\n",
       "      <td>{'value': 12, 'units': 'C'}</td>\n",
       "      <td>{'value': 1023, 'units': 'hPa'}</td>\n",
       "      <td>{'value': None, 'units': '%'}</td>\n",
       "      <td>{'value': None, 'units': 'mm/hr'}</td>\n",
       "      <td>{'value': '2021-01-24T18:00:00.000Z'}</td>\n",
       "    </tr>\n",
       "    <tr>\n",
       "      <th>3</th>\n",
       "      <td>{'value': 11, 'units': 'C'}</td>\n",
       "      <td>{'value': 1023, 'units': 'hPa'}</td>\n",
       "      <td>{'value': None, 'units': '%'}</td>\n",
       "      <td>{'value': None, 'units': 'mm/hr'}</td>\n",
       "      <td>{'value': '2021-01-24T19:00:00.000Z'}</td>\n",
       "    </tr>\n",
       "    <tr>\n",
       "      <th>4</th>\n",
       "      <td>{'value': 10, 'units': 'C'}</td>\n",
       "      <td>{'value': 1023, 'units': 'hPa'}</td>\n",
       "      <td>{'value': None, 'units': '%'}</td>\n",
       "      <td>{'value': None, 'units': 'mm/hr'}</td>\n",
       "      <td>{'value': '2021-01-24T20:00:00.000Z'}</td>\n",
       "    </tr>\n",
       "  </tbody>\n",
       "</table>\n",
       "</div>"
      ],
      "text/plain": [
       "                          temp                    baro_pressure  \\\n",
       "0  {'value': 14, 'units': 'C'}  {'value': 1022, 'units': 'hPa'}   \n",
       "1  {'value': 13, 'units': 'C'}  {'value': 1022, 'units': 'hPa'}   \n",
       "2  {'value': 12, 'units': 'C'}  {'value': 1023, 'units': 'hPa'}   \n",
       "3  {'value': 11, 'units': 'C'}  {'value': 1023, 'units': 'hPa'}   \n",
       "4  {'value': 10, 'units': 'C'}  {'value': 1023, 'units': 'hPa'}   \n",
       "\n",
       "                        humidity                      precipitation  \\\n",
       "0  {'value': None, 'units': '%'}  {'value': None, 'units': 'mm/hr'}   \n",
       "1  {'value': None, 'units': '%'}  {'value': None, 'units': 'mm/hr'}   \n",
       "2  {'value': None, 'units': '%'}  {'value': None, 'units': 'mm/hr'}   \n",
       "3  {'value': None, 'units': '%'}  {'value': None, 'units': 'mm/hr'}   \n",
       "4  {'value': None, 'units': '%'}  {'value': None, 'units': 'mm/hr'}   \n",
       "\n",
       "                        observation_time  \n",
       "0  {'value': '2021-01-24T16:00:00.000Z'}  \n",
       "1  {'value': '2021-01-24T17:00:00.000Z'}  \n",
       "2  {'value': '2021-01-24T18:00:00.000Z'}  \n",
       "3  {'value': '2021-01-24T19:00:00.000Z'}  \n",
       "4  {'value': '2021-01-24T20:00:00.000Z'}  "
      ]
     },
     "execution_count": 62,
     "metadata": {},
     "output_type": "execute_result"
    }
   ],
   "source": [
    "stop = datetime.now().isoformat()\n",
    "start = (datetime.now() - relativedelta(days=1)).isoformat()\n",
    "\n",
    "url = \"https://api.climacell.co/v3/weather/historical/station\"\n",
    "\n",
    "querystring = {'lat': 30, \n",
    "               'lon': 40,\n",
    "               \"unit_system\":\"si\",\n",
    "               \"apikey\":key,\n",
    "               \"start_time\": start, \n",
    "               \"end_time\": stop,\n",
    "               \"fields\":['temp','precipitation','humidity','baro_pressure'],\n",
    "              }\n",
    "\n",
    "\n",
    "response = requests.request(\"GET\", url, params=querystring)\n",
    "data = response.json()\n",
    "df_hist = pd.DataFrame(data)\n",
    "df_hist.head(5)\n",
    "# #df_hist.to_csv('climate_data.csv')"
   ]
  },
  {
   "cell_type": "markdown",
   "metadata": {},
   "source": [
    "### Unpack Column and turn it in to individual colums in data frame"
   ]
  },
  {
   "cell_type": "code",
   "execution_count": 72,
   "metadata": {},
   "outputs": [
    {
     "ename": "TypeError",
     "evalue": "sub() missing 1 required positional argument: 'string'",
     "output_type": "error",
     "traceback": [
      "\u001b[0;31m---------------------------------------------------------------------------\u001b[0m",
      "\u001b[0;31mTypeError\u001b[0m                                 Traceback (most recent call last)",
      "\u001b[0;32m<ipython-input-72-34030c145282>\u001b[0m in \u001b[0;36m<module>\u001b[0;34m\u001b[0m\n\u001b[0;32m----> 1\u001b[0;31m \u001b[0mdigit\u001b[0m \u001b[0;34m=\u001b[0m \u001b[0mre\u001b[0m\u001b[0;34m.\u001b[0m\u001b[0msub\u001b[0m\u001b[0;34m(\u001b[0m\u001b[0;34mr'\\D'\u001b[0m\u001b[0;34m,\u001b[0m\u001b[0mdf_hist\u001b[0m\u001b[0;34m)\u001b[0m\u001b[0;34m\u001b[0m\u001b[0;34m\u001b[0m\u001b[0m\n\u001b[0m",
      "\u001b[0;31mTypeError\u001b[0m: sub() missing 1 required positional argument: 'string'"
     ]
    }
   ],
   "source": [
    "string = '{'value': 14, 'units': 'C'}'\n",
    "digit = re.sub(r'\\D', df_hist)"
   ]
  },
  {
   "cell_type": "code",
   "execution_count": 60,
   "metadata": {},
   "outputs": [
    {
     "data": {
      "text/plain": [
       "0      {'value': 8, 'units': 'C'}\n",
       "1      {'value': 7, 'units': 'C'}\n",
       "2      {'value': 6, 'units': 'C'}\n",
       "3      {'value': 6, 'units': 'C'}\n",
       "4      {'value': 5, 'units': 'C'}\n",
       "5      {'value': 4, 'units': 'C'}\n",
       "6      {'value': 4, 'units': 'C'}\n",
       "7      {'value': 4, 'units': 'C'}\n",
       "8      {'value': 3, 'units': 'C'}\n",
       "9      {'value': 3, 'units': 'C'}\n",
       "10     {'value': 2, 'units': 'C'}\n",
       "11     {'value': 2, 'units': 'C'}\n",
       "12     {'value': 1, 'units': 'C'}\n",
       "13     {'value': 1, 'units': 'C'}\n",
       "14     {'value': 4, 'units': 'C'}\n",
       "15     {'value': 6, 'units': 'C'}\n",
       "16     {'value': 7, 'units': 'C'}\n",
       "17     {'value': 9, 'units': 'C'}\n",
       "18    {'value': 10, 'units': 'C'}\n",
       "19    {'value': 11, 'units': 'C'}\n",
       "20    {'value': 12, 'units': 'C'}\n",
       "21    {'value': 12, 'units': 'C'}\n",
       "22    {'value': 11, 'units': 'C'}\n",
       "23    {'value': 10, 'units': 'C'}\n",
       "Name: temp, dtype: object"
      ]
     },
     "execution_count": 60,
     "metadata": {},
     "output_type": "execute_result"
    }
   ],
   "source": [
    "pattern = r'[0-9]'\n",
    "\n",
    "df.replace(pattern)\n",
    "    \n",
    "    "
   ]
  },
  {
   "cell_type": "code",
   "execution_count": null,
   "metadata": {},
   "outputs": [],
   "source": []
  },
  {
   "cell_type": "code",
   "execution_count": 42,
   "metadata": {},
   "outputs": [
    {
     "data": {
      "text/html": [
       "<div>\n",
       "<style scoped>\n",
       "    .dataframe tbody tr th:only-of-type {\n",
       "        vertical-align: middle;\n",
       "    }\n",
       "\n",
       "    .dataframe tbody tr th {\n",
       "        vertical-align: top;\n",
       "    }\n",
       "\n",
       "    .dataframe thead th {\n",
       "        text-align: right;\n",
       "    }\n",
       "</style>\n",
       "<table border=\"1\" class=\"dataframe\">\n",
       "  <thead>\n",
       "    <tr style=\"text-align: right;\">\n",
       "      <th></th>\n",
       "      <th>0</th>\n",
       "    </tr>\n",
       "  </thead>\n",
       "  <tbody>\n",
       "    <tr>\n",
       "      <th>0</th>\n",
       "      <td>{'value': 8, 'units': 'C'}</td>\n",
       "    </tr>\n",
       "    <tr>\n",
       "      <th>1</th>\n",
       "      <td>{'value': 7, 'units': 'C'}</td>\n",
       "    </tr>\n",
       "    <tr>\n",
       "      <th>2</th>\n",
       "      <td>{'value': 6, 'units': 'C'}</td>\n",
       "    </tr>\n",
       "    <tr>\n",
       "      <th>3</th>\n",
       "      <td>{'value': 6, 'units': 'C'}</td>\n",
       "    </tr>\n",
       "    <tr>\n",
       "      <th>4</th>\n",
       "      <td>{'value': 5, 'units': 'C'}</td>\n",
       "    </tr>\n",
       "    <tr>\n",
       "      <th>5</th>\n",
       "      <td>{'value': 4, 'units': 'C'}</td>\n",
       "    </tr>\n",
       "    <tr>\n",
       "      <th>6</th>\n",
       "      <td>{'value': 4, 'units': 'C'}</td>\n",
       "    </tr>\n",
       "    <tr>\n",
       "      <th>7</th>\n",
       "      <td>{'value': 4, 'units': 'C'}</td>\n",
       "    </tr>\n",
       "    <tr>\n",
       "      <th>8</th>\n",
       "      <td>{'value': 3, 'units': 'C'}</td>\n",
       "    </tr>\n",
       "    <tr>\n",
       "      <th>9</th>\n",
       "      <td>{'value': 3, 'units': 'C'}</td>\n",
       "    </tr>\n",
       "    <tr>\n",
       "      <th>10</th>\n",
       "      <td>{'value': 2, 'units': 'C'}</td>\n",
       "    </tr>\n",
       "    <tr>\n",
       "      <th>11</th>\n",
       "      <td>{'value': 2, 'units': 'C'}</td>\n",
       "    </tr>\n",
       "    <tr>\n",
       "      <th>12</th>\n",
       "      <td>{'value': 1, 'units': 'C'}</td>\n",
       "    </tr>\n",
       "    <tr>\n",
       "      <th>13</th>\n",
       "      <td>{'value': 1, 'units': 'C'}</td>\n",
       "    </tr>\n",
       "    <tr>\n",
       "      <th>14</th>\n",
       "      <td>{'value': 4, 'units': 'C'}</td>\n",
       "    </tr>\n",
       "    <tr>\n",
       "      <th>15</th>\n",
       "      <td>{'value': 6, 'units': 'C'}</td>\n",
       "    </tr>\n",
       "    <tr>\n",
       "      <th>16</th>\n",
       "      <td>{'value': 7, 'units': 'C'}</td>\n",
       "    </tr>\n",
       "    <tr>\n",
       "      <th>17</th>\n",
       "      <td>{'value': 9, 'units': 'C'}</td>\n",
       "    </tr>\n",
       "    <tr>\n",
       "      <th>18</th>\n",
       "      <td>{'value': 10, 'units': 'C'}</td>\n",
       "    </tr>\n",
       "    <tr>\n",
       "      <th>19</th>\n",
       "      <td>{'value': 11, 'units': 'C'}</td>\n",
       "    </tr>\n",
       "    <tr>\n",
       "      <th>20</th>\n",
       "      <td>{'value': 12, 'units': 'C'}</td>\n",
       "    </tr>\n",
       "    <tr>\n",
       "      <th>21</th>\n",
       "      <td>{'value': 12, 'units': 'C'}</td>\n",
       "    </tr>\n",
       "    <tr>\n",
       "      <th>22</th>\n",
       "      <td>{'value': 11, 'units': 'C'}</td>\n",
       "    </tr>\n",
       "    <tr>\n",
       "      <th>23</th>\n",
       "      <td>{'value': 10, 'units': 'C'}</td>\n",
       "    </tr>\n",
       "  </tbody>\n",
       "</table>\n",
       "</div>"
      ],
      "text/plain": [
       "                              0\n",
       "0    {'value': 8, 'units': 'C'}\n",
       "1    {'value': 7, 'units': 'C'}\n",
       "2    {'value': 6, 'units': 'C'}\n",
       "3    {'value': 6, 'units': 'C'}\n",
       "4    {'value': 5, 'units': 'C'}\n",
       "5    {'value': 4, 'units': 'C'}\n",
       "6    {'value': 4, 'units': 'C'}\n",
       "7    {'value': 4, 'units': 'C'}\n",
       "8    {'value': 3, 'units': 'C'}\n",
       "9    {'value': 3, 'units': 'C'}\n",
       "10   {'value': 2, 'units': 'C'}\n",
       "11   {'value': 2, 'units': 'C'}\n",
       "12   {'value': 1, 'units': 'C'}\n",
       "13   {'value': 1, 'units': 'C'}\n",
       "14   {'value': 4, 'units': 'C'}\n",
       "15   {'value': 6, 'units': 'C'}\n",
       "16   {'value': 7, 'units': 'C'}\n",
       "17   {'value': 9, 'units': 'C'}\n",
       "18  {'value': 10, 'units': 'C'}\n",
       "19  {'value': 11, 'units': 'C'}\n",
       "20  {'value': 12, 'units': 'C'}\n",
       "21  {'value': 12, 'units': 'C'}\n",
       "22  {'value': 11, 'units': 'C'}\n",
       "23  {'value': 10, 'units': 'C'}"
      ]
     },
     "execution_count": 42,
     "metadata": {},
     "output_type": "execute_result"
    }
   ],
   "source": [
    "# temp = df_hist['temp'].apply(pd.Series)\n",
    "# temp.rename(columns={'value':'temp_in_c'}, inplace = True)\n",
    "# temp.head()\n",
    "\n",
    "\n",
    "def unpack(df, column, fillna=None):\n",
    "    ret = None\n",
    "    tmp = pd.DataFrame((d for idx, d in df[column].iteritems())).fillna(fillna)\n",
    "    ret = pd.concat([df.drop(column,axis=1), tmp], axis=1)\n",
    "    return ret\n",
    "\n",
    "unpack(df,'temp',0)"
   ]
  },
  {
   "cell_type": "code",
   "execution_count": 9,
   "metadata": {},
   "outputs": [
    {
     "data": {
      "text/html": [
       "<div>\n",
       "<style scoped>\n",
       "    .dataframe tbody tr th:only-of-type {\n",
       "        vertical-align: middle;\n",
       "    }\n",
       "\n",
       "    .dataframe tbody tr th {\n",
       "        vertical-align: top;\n",
       "    }\n",
       "\n",
       "    .dataframe thead th {\n",
       "        text-align: right;\n",
       "    }\n",
       "</style>\n",
       "<table border=\"1\" class=\"dataframe\">\n",
       "  <thead>\n",
       "    <tr style=\"text-align: right;\">\n",
       "      <th></th>\n",
       "      <th>id</th>\n",
       "      <th>nested</th>\n",
       "    </tr>\n",
       "  </thead>\n",
       "  <tbody>\n",
       "    <tr>\n",
       "      <th>0</th>\n",
       "      <td>1</td>\n",
       "      <td>{'a': 1, 'b': 2}</td>\n",
       "    </tr>\n",
       "    <tr>\n",
       "      <th>1</th>\n",
       "      <td>2</td>\n",
       "      <td>{'a': 2, 'b': 4}</td>\n",
       "    </tr>\n",
       "    <tr>\n",
       "      <th>2</th>\n",
       "      <td>3</td>\n",
       "      <td>{'a': 3, 'b': 6}</td>\n",
       "    </tr>\n",
       "    <tr>\n",
       "      <th>3</th>\n",
       "      <td>4</td>\n",
       "      <td>{'a': 4}</td>\n",
       "    </tr>\n",
       "  </tbody>\n",
       "</table>\n",
       "</div>"
      ],
      "text/plain": [
       "   id            nested\n",
       "0   1  {'a': 1, 'b': 2}\n",
       "1   2  {'a': 2, 'b': 4}\n",
       "2   3  {'a': 3, 'b': 6}\n",
       "3   4          {'a': 4}"
      ]
     },
     "execution_count": 9,
     "metadata": {},
     "output_type": "execute_result"
    }
   ],
   "source": [
    "# temp.drop(columns=['units'], inplace = True)\n",
    "# temp_df = pd.DataFrame(temp)\n",
    "# temp_df\n",
    "tf = pd.DataFrame([\n",
    "        {'id': 1, 'nested': {'a': 1, 'b': 2} },\n",
    "        {'id': 2, 'nested': {'a': 2, 'b': 4} },\n",
    "        {'id': 3, 'nested': {'a': 3, 'b': 6} },\n",
    "        {'id': 4, 'nested': {'a': 4}},\n",
    "    ])\n",
    "tf.head()"
   ]
  },
  {
   "cell_type": "code",
   "execution_count": 10,
   "metadata": {
    "scrolled": true
   },
   "outputs": [
    {
     "data": {
      "text/html": [
       "<div>\n",
       "<style scoped>\n",
       "    .dataframe tbody tr th:only-of-type {\n",
       "        vertical-align: middle;\n",
       "    }\n",
       "\n",
       "    .dataframe tbody tr th {\n",
       "        vertical-align: top;\n",
       "    }\n",
       "\n",
       "    .dataframe thead th {\n",
       "        text-align: right;\n",
       "    }\n",
       "</style>\n",
       "<table border=\"1\" class=\"dataframe\">\n",
       "  <thead>\n",
       "    <tr style=\"text-align: right;\">\n",
       "      <th></th>\n",
       "      <th>id</th>\n",
       "      <th>a</th>\n",
       "      <th>b</th>\n",
       "    </tr>\n",
       "  </thead>\n",
       "  <tbody>\n",
       "    <tr>\n",
       "      <th>0</th>\n",
       "      <td>1</td>\n",
       "      <td>1</td>\n",
       "      <td>2.0</td>\n",
       "    </tr>\n",
       "    <tr>\n",
       "      <th>1</th>\n",
       "      <td>2</td>\n",
       "      <td>2</td>\n",
       "      <td>4.0</td>\n",
       "    </tr>\n",
       "    <tr>\n",
       "      <th>2</th>\n",
       "      <td>3</td>\n",
       "      <td>3</td>\n",
       "      <td>6.0</td>\n",
       "    </tr>\n",
       "    <tr>\n",
       "      <th>3</th>\n",
       "      <td>4</td>\n",
       "      <td>4</td>\n",
       "      <td>0.0</td>\n",
       "    </tr>\n",
       "  </tbody>\n",
       "</table>\n",
       "</div>"
      ],
      "text/plain": [
       "   id  a    b\n",
       "0   1  1  2.0\n",
       "1   2  2  4.0\n",
       "2   3  3  6.0\n",
       "3   4  4  0.0"
      ]
     },
     "execution_count": 10,
     "metadata": {},
     "output_type": "execute_result"
    }
   ],
   "source": [
    "def unpack(df, column, fillna=None):\n",
    "    ret = None\n",
    "    if fillna is None:\n",
    "        ret = pd.concat([df, pd.DataFrame((d for idx, d in df[column].iteritems()))], axis=1)\n",
    "        del ret[column]\n",
    "    else:\n",
    "        ret = pd.concat([df, pd.DataFrame((d for idx, d in df[column].iteritems())).fillna(fillna)], axis=1)\n",
    "        del ret[column]\n",
    "    return ret\n",
    "\n",
    "unpack(tf, 'nested', 0)"
   ]
  },
  {
   "cell_type": "code",
   "execution_count": 11,
   "metadata": {},
   "outputs": [
    {
     "ename": "NameError",
     "evalue": "name 'df' is not defined",
     "output_type": "error",
     "traceback": [
      "\u001b[0;31m---------------------------------------------------------------------------\u001b[0m",
      "\u001b[0;31mNameError\u001b[0m                                 Traceback (most recent call last)",
      "\u001b[0;32m<ipython-input-11-02681024dfe8>\u001b[0m in \u001b[0;36m<module>\u001b[0;34m\u001b[0m\n\u001b[0;32m----> 1\u001b[0;31m \u001b[0mdf\u001b[0m \u001b[0;34m=\u001b[0m \u001b[0mpd\u001b[0m\u001b[0;34m.\u001b[0m\u001b[0mconcat\u001b[0m\u001b[0;34m(\u001b[0m\u001b[0;34m[\u001b[0m\u001b[0mdf\u001b[0m\u001b[0;34m,\u001b[0m \u001b[0mpd\u001b[0m\u001b[0;34m.\u001b[0m\u001b[0mDataFrame\u001b[0m\u001b[0;34m(\u001b[0m\u001b[0mlist\u001b[0m\u001b[0;34m(\u001b[0m\u001b[0mdf\u001b[0m\u001b[0;34m[\u001b[0m\u001b[0;34m'run_info'\u001b[0m\u001b[0;34m]\u001b[0m\u001b[0;34m)\u001b[0m\u001b[0;34m)\u001b[0m\u001b[0;34m.\u001b[0m\u001b[0mfillna\u001b[0m\u001b[0;34m(\u001b[0m\u001b[0;36m0\u001b[0m\u001b[0;34m)\u001b[0m\u001b[0;34m.\u001b[0m\u001b[0mastype\u001b[0m\u001b[0;34m(\u001b[0m\u001b[0mint\u001b[0m\u001b[0;34m)\u001b[0m\u001b[0;34m]\u001b[0m\u001b[0;34m,\u001b[0m \u001b[0maxis\u001b[0m\u001b[0;34m=\u001b[0m\u001b[0;36m1\u001b[0m\u001b[0;34m)\u001b[0m\u001b[0;34m\u001b[0m\u001b[0;34m\u001b[0m\u001b[0m\n\u001b[0m",
      "\u001b[0;31mNameError\u001b[0m: name 'df' is not defined"
     ]
    }
   ],
   "source": [
    "df = pd.concat([df, pd.DataFrame(list(df['run_info'])).fillna(0).astype(int)], axis=1)"
   ]
  },
  {
   "cell_type": "markdown",
   "metadata": {},
   "source": [
    "### Append to DF"
   ]
  },
  {
   "cell_type": "code",
   "execution_count": null,
   "metadata": {},
   "outputs": [],
   "source": [
    "result = pd.concat([df_hist, temp], axis=1)\n",
    "result"
   ]
  },
  {
   "cell_type": "code",
   "execution_count": null,
   "metadata": {},
   "outputs": [],
   "source": [
    "now = datetime.now()\n",
    "year = '{:02d}'.format(now.year)\n",
    "month = '{:02d}'.format(now.month)\n",
    "day = '{:02d}'.format(now.day)\n",
    "hour = '{:02d}'.format(now.hour)\n",
    "minute = '{:02d}'.format(now.minute)\n",
    "day_month_year_hour_now = '{}-{}-{}-{}'.format(year, month, day, hour)\n",
    "day_month_year_hour_now"
   ]
  },
  {
   "cell_type": "code",
   "execution_count": null,
   "metadata": {},
   "outputs": [],
   "source": [
    "six_hour_ago = datetime.now() - timedelta(hours=6)\n",
    "year = '{:02d}'.format(six_hour_ago.year)\n",
    "month = '{:02d}'.format(six_hour_ago.month)\n",
    "day = '{:02d}'.format(six_hour_ago.day)\n",
    "hour = '{:02d}'.format(six_hour_ago.hour)\n",
    "minute = '{:02d}'.format(six_hour_ago.minute)\n",
    "day_month_year_hour_past = '{}-{}-{}-{}'.format(year, month, day, hour)\n",
    "day_month_year_hour_past"
   ]
  },
  {
   "cell_type": "code",
   "execution_count": null,
   "metadata": {},
   "outputs": [],
   "source": [
    "start = datetime.now().isoformat()\n",
    "start"
   ]
  },
  {
   "cell_type": "code",
   "execution_count": null,
   "metadata": {},
   "outputs": [],
   "source": [
    "stop = (datetime.now() - relativedelta(months=4)).isoformat()\n",
    "stop"
   ]
  },
  {
   "cell_type": "code",
   "execution_count": null,
   "metadata": {},
   "outputs": [],
   "source": []
  }
 ],
 "metadata": {
  "kernelspec": {
   "display_name": "Python 3",
   "language": "python",
   "name": "python3"
  },
  "language_info": {
   "codemirror_mode": {
    "name": "ipython",
    "version": 3
   },
   "file_extension": ".py",
   "mimetype": "text/x-python",
   "name": "python",
   "nbconvert_exporter": "python",
   "pygments_lexer": "ipython3",
   "version": "3.8.5"
  }
 },
 "nbformat": 4,
 "nbformat_minor": 4
}
