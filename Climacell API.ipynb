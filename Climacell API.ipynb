{
 "cells": [
  {
   "cell_type": "raw",
   "metadata": {},
   "source": [
    "<!–– Hide code cells and show a button to allow user to show/hide code cells ––!>\n",
    "<script>\n",
    "  function code_toggle() {\n",
    "    if (code_shown){\n",
    "      $('div.input').hide('500');\n",
    "      $('#toggleButton').val('Show Code')\n",
    "    } else {\n",
    "      $('div.input').show('500');\n",
    "      $('#toggleButton').val('Hide Code')\n",
    "    }\n",
    "    code_shown = !code_shown\n",
    "  } \n",
    "  \n",
    "  $( document ).ready(function(){\n",
    "    code_shown=false; \n",
    "    $('div.input').hide()\n",
    "  });\n",
    "</script>\n",
    "<form action=\"javascript:code_toggle()\"><input type=\"submit\" id=\"toggleButton\" value=\"Show Code\"></form>"
   ]
  },
  {
   "cell_type": "code",
   "execution_count": 1,
   "metadata": {},
   "outputs": [
    {
     "data": {
      "text/plain": [
       "(80, 5)"
      ]
     },
     "execution_count": 1,
     "metadata": {},
     "output_type": "execute_result"
    }
   ],
   "source": [
    "#Daily Imports\n",
    "'''\n",
    "cached = True should read in df\n",
    "cached = False should append data on df for Feb 1st\n",
    "'''\n",
    "import wrangle\n",
    "import pandas as pd\n",
    "df = wrangle.get_climacell_data(cached = False)\n",
    "df.shape"
   ]
  },
  {
   "cell_type": "code",
   "execution_count": 2,
   "metadata": {},
   "outputs": [
    {
     "name": "stdout",
     "output_type": "stream",
     "text": [
      "<class 'pandas.core.frame.DataFrame'>\n",
      "Int64Index: 80 entries, 0 to 23\n",
      "Data columns (total 5 columns):\n",
      " #   Column               Non-Null Count  Dtype \n",
      "---  ------               --------------  ----- \n",
      " 0   observation_time     80 non-null     object\n",
      " 1   temp_degree_c        80 non-null     int64 \n",
      " 2   baro_pressure_hPa    80 non-null     int64 \n",
      " 3   wind_speed_m/s       80 non-null     int64 \n",
      " 4   precipitation_mm/hr  80 non-null     int64 \n",
      "dtypes: int64(4), object(1)\n",
      "memory usage: 3.8+ KB\n"
     ]
    }
   ],
   "source": [
    "df.info()"
   ]
  },
  {
   "cell_type": "code",
   "execution_count": 3,
   "metadata": {},
   "outputs": [
    {
     "data": {
      "text/html": [
       "<div>\n",
       "<style scoped>\n",
       "    .dataframe tbody tr th:only-of-type {\n",
       "        vertical-align: middle;\n",
       "    }\n",
       "\n",
       "    .dataframe tbody tr th {\n",
       "        vertical-align: top;\n",
       "    }\n",
       "\n",
       "    .dataframe thead th {\n",
       "        text-align: right;\n",
       "    }\n",
       "</style>\n",
       "<table border=\"1\" class=\"dataframe\">\n",
       "  <thead>\n",
       "    <tr style=\"text-align: right;\">\n",
       "      <th></th>\n",
       "      <th>observation_time</th>\n",
       "      <th>temp_degree_c</th>\n",
       "      <th>baro_pressure_hPa</th>\n",
       "      <th>wind_speed_m/s</th>\n",
       "      <th>precipitation_mm/hr</th>\n",
       "    </tr>\n",
       "  </thead>\n",
       "  <tbody>\n",
       "    <tr>\n",
       "      <th>0</th>\n",
       "      <td>2021-01-29 09:00:00</td>\n",
       "      <td>15</td>\n",
       "      <td>1017</td>\n",
       "      <td>6</td>\n",
       "      <td>0</td>\n",
       "    </tr>\n",
       "    <tr>\n",
       "      <th>1</th>\n",
       "      <td>2021-01-29 10:00:00</td>\n",
       "      <td>17</td>\n",
       "      <td>1016</td>\n",
       "      <td>6</td>\n",
       "      <td>0</td>\n",
       "    </tr>\n",
       "    <tr>\n",
       "      <th>2</th>\n",
       "      <td>2021-01-29 11:00:00</td>\n",
       "      <td>17</td>\n",
       "      <td>1016</td>\n",
       "      <td>9</td>\n",
       "      <td>0</td>\n",
       "    </tr>\n",
       "    <tr>\n",
       "      <th>3</th>\n",
       "      <td>2021-01-29 12:00:00</td>\n",
       "      <td>16</td>\n",
       "      <td>1017</td>\n",
       "      <td>9</td>\n",
       "      <td>0</td>\n",
       "    </tr>\n",
       "    <tr>\n",
       "      <th>4</th>\n",
       "      <td>2021-01-29 13:00:00</td>\n",
       "      <td>16</td>\n",
       "      <td>1017</td>\n",
       "      <td>9</td>\n",
       "      <td>0</td>\n",
       "    </tr>\n",
       "  </tbody>\n",
       "</table>\n",
       "</div>"
      ],
      "text/plain": [
       "      observation_time  temp_degree_c  baro_pressure_hPa  wind_speed_m/s  \\\n",
       "0  2021-01-29 09:00:00             15               1017               6   \n",
       "1  2021-01-29 10:00:00             17               1016               6   \n",
       "2  2021-01-29 11:00:00             17               1016               9   \n",
       "3  2021-01-29 12:00:00             16               1017               9   \n",
       "4  2021-01-29 13:00:00             16               1017               9   \n",
       "\n",
       "   precipitation_mm/hr  \n",
       "0                    0  \n",
       "1                    0  \n",
       "2                    0  \n",
       "3                    0  \n",
       "4                    0  "
      ]
     },
     "execution_count": 3,
     "metadata": {},
     "output_type": "execute_result"
    }
   ],
   "source": [
    "df.head()"
   ]
  },
  {
   "cell_type": "code",
   "execution_count": 4,
   "metadata": {},
   "outputs": [
    {
     "data": {
      "text/html": [
       "<div>\n",
       "<style scoped>\n",
       "    .dataframe tbody tr th:only-of-type {\n",
       "        vertical-align: middle;\n",
       "    }\n",
       "\n",
       "    .dataframe tbody tr th {\n",
       "        vertical-align: top;\n",
       "    }\n",
       "\n",
       "    .dataframe thead th {\n",
       "        text-align: right;\n",
       "    }\n",
       "</style>\n",
       "<table border=\"1\" class=\"dataframe\">\n",
       "  <thead>\n",
       "    <tr style=\"text-align: right;\">\n",
       "      <th></th>\n",
       "      <th>temp_degree_c</th>\n",
       "      <th>baro_pressure_hPa</th>\n",
       "      <th>wind_speed_m/s</th>\n",
       "      <th>precipitation_mm/hr</th>\n",
       "      <th>day</th>\n",
       "      <th>month</th>\n",
       "    </tr>\n",
       "    <tr>\n",
       "      <th>observation_time</th>\n",
       "      <th></th>\n",
       "      <th></th>\n",
       "      <th></th>\n",
       "      <th></th>\n",
       "      <th></th>\n",
       "      <th></th>\n",
       "    </tr>\n",
       "  </thead>\n",
       "  <tbody>\n",
       "    <tr>\n",
       "      <th>2021-01-29 09:00:00</th>\n",
       "      <td>15</td>\n",
       "      <td>1017</td>\n",
       "      <td>6</td>\n",
       "      <td>0</td>\n",
       "      <td>29</td>\n",
       "      <td>1</td>\n",
       "    </tr>\n",
       "    <tr>\n",
       "      <th>2021-01-29 10:00:00</th>\n",
       "      <td>17</td>\n",
       "      <td>1016</td>\n",
       "      <td>6</td>\n",
       "      <td>0</td>\n",
       "      <td>29</td>\n",
       "      <td>1</td>\n",
       "    </tr>\n",
       "    <tr>\n",
       "      <th>2021-01-29 11:00:00</th>\n",
       "      <td>17</td>\n",
       "      <td>1016</td>\n",
       "      <td>9</td>\n",
       "      <td>0</td>\n",
       "      <td>29</td>\n",
       "      <td>1</td>\n",
       "    </tr>\n",
       "    <tr>\n",
       "      <th>2021-01-29 12:00:00</th>\n",
       "      <td>16</td>\n",
       "      <td>1017</td>\n",
       "      <td>9</td>\n",
       "      <td>0</td>\n",
       "      <td>29</td>\n",
       "      <td>1</td>\n",
       "    </tr>\n",
       "    <tr>\n",
       "      <th>2021-01-29 13:00:00</th>\n",
       "      <td>16</td>\n",
       "      <td>1017</td>\n",
       "      <td>9</td>\n",
       "      <td>0</td>\n",
       "      <td>29</td>\n",
       "      <td>1</td>\n",
       "    </tr>\n",
       "  </tbody>\n",
       "</table>\n",
       "</div>"
      ],
      "text/plain": [
       "                     temp_degree_c  baro_pressure_hPa  wind_speed_m/s  \\\n",
       "observation_time                                                        \n",
       "2021-01-29 09:00:00             15               1017               6   \n",
       "2021-01-29 10:00:00             17               1016               6   \n",
       "2021-01-29 11:00:00             17               1016               9   \n",
       "2021-01-29 12:00:00             16               1017               9   \n",
       "2021-01-29 13:00:00             16               1017               9   \n",
       "\n",
       "                     precipitation_mm/hr  day  month  \n",
       "observation_time                                      \n",
       "2021-01-29 09:00:00                    0   29      1  \n",
       "2021-01-29 10:00:00                    0   29      1  \n",
       "2021-01-29 11:00:00                    0   29      1  \n",
       "2021-01-29 12:00:00                    0   29      1  \n",
       "2021-01-29 13:00:00                    0   29      1  "
      ]
     },
     "execution_count": 4,
     "metadata": {},
     "output_type": "execute_result"
    }
   ],
   "source": [
    "df = wrangle.formatt_data(df)\n",
    "df.head()"
   ]
  },
  {
   "cell_type": "code",
   "execution_count": 5,
   "metadata": {},
   "outputs": [
    {
     "data": {
      "text/plain": [
       "(80, 6)"
      ]
     },
     "execution_count": 5,
     "metadata": {},
     "output_type": "execute_result"
    }
   ],
   "source": [
    "df.shape"
   ]
  },
  {
   "cell_type": "code",
   "execution_count": 6,
   "metadata": {},
   "outputs": [
    {
     "data": {
      "text/html": [
       "<div>\n",
       "<style scoped>\n",
       "    .dataframe tbody tr th:only-of-type {\n",
       "        vertical-align: middle;\n",
       "    }\n",
       "\n",
       "    .dataframe tbody tr th {\n",
       "        vertical-align: top;\n",
       "    }\n",
       "\n",
       "    .dataframe thead th {\n",
       "        text-align: right;\n",
       "    }\n",
       "</style>\n",
       "<table border=\"1\" class=\"dataframe\">\n",
       "  <thead>\n",
       "    <tr style=\"text-align: right;\">\n",
       "      <th></th>\n",
       "      <th>temp_degree_c</th>\n",
       "      <th>baro_pressure_hPa</th>\n",
       "      <th>wind_speed_m/s</th>\n",
       "      <th>precipitation_mm/hr</th>\n",
       "      <th>day</th>\n",
       "      <th>month</th>\n",
       "    </tr>\n",
       "    <tr>\n",
       "      <th>observation_time</th>\n",
       "      <th></th>\n",
       "      <th></th>\n",
       "      <th></th>\n",
       "      <th></th>\n",
       "      <th></th>\n",
       "      <th></th>\n",
       "    </tr>\n",
       "  </thead>\n",
       "  <tbody>\n",
       "    <tr>\n",
       "      <th>2021-01-29 09:00:00</th>\n",
       "      <td>15</td>\n",
       "      <td>1017</td>\n",
       "      <td>6</td>\n",
       "      <td>0</td>\n",
       "      <td>29</td>\n",
       "      <td>1</td>\n",
       "    </tr>\n",
       "  </tbody>\n",
       "</table>\n",
       "</div>"
      ],
      "text/plain": [
       "                     temp_degree_c  baro_pressure_hPa  wind_speed_m/s  \\\n",
       "observation_time                                                        \n",
       "2021-01-29 09:00:00             15               1017               6   \n",
       "\n",
       "                     precipitation_mm/hr  day  month  \n",
       "observation_time                                      \n",
       "2021-01-29 09:00:00                    0   29      1  "
      ]
     },
     "execution_count": 6,
     "metadata": {},
     "output_type": "execute_result"
    }
   ],
   "source": [
    "df.head(1)"
   ]
  },
  {
   "cell_type": "code",
   "execution_count": 7,
   "metadata": {},
   "outputs": [
    {
     "data": {
      "text/html": [
       "<div>\n",
       "<style scoped>\n",
       "    .dataframe tbody tr th:only-of-type {\n",
       "        vertical-align: middle;\n",
       "    }\n",
       "\n",
       "    .dataframe tbody tr th {\n",
       "        vertical-align: top;\n",
       "    }\n",
       "\n",
       "    .dataframe thead th {\n",
       "        text-align: right;\n",
       "    }\n",
       "</style>\n",
       "<table border=\"1\" class=\"dataframe\">\n",
       "  <thead>\n",
       "    <tr style=\"text-align: right;\">\n",
       "      <th></th>\n",
       "      <th>temp_degree_c</th>\n",
       "      <th>baro_pressure_hPa</th>\n",
       "      <th>wind_speed_m/s</th>\n",
       "      <th>precipitation_mm/hr</th>\n",
       "      <th>day</th>\n",
       "      <th>month</th>\n",
       "    </tr>\n",
       "    <tr>\n",
       "      <th>observation_time</th>\n",
       "      <th></th>\n",
       "      <th></th>\n",
       "      <th></th>\n",
       "      <th></th>\n",
       "      <th></th>\n",
       "      <th></th>\n",
       "    </tr>\n",
       "  </thead>\n",
       "  <tbody>\n",
       "    <tr>\n",
       "      <th>2021-02-03 14:00:00</th>\n",
       "      <td>25</td>\n",
       "      <td>1017</td>\n",
       "      <td>2</td>\n",
       "      <td>0</td>\n",
       "      <td>3</td>\n",
       "      <td>2</td>\n",
       "    </tr>\n",
       "  </tbody>\n",
       "</table>\n",
       "</div>"
      ],
      "text/plain": [
       "                     temp_degree_c  baro_pressure_hPa  wind_speed_m/s  \\\n",
       "observation_time                                                        \n",
       "2021-02-03 14:00:00             25               1017               2   \n",
       "\n",
       "                     precipitation_mm/hr  day  month  \n",
       "observation_time                                      \n",
       "2021-02-03 14:00:00                    0    3      2  "
      ]
     },
     "execution_count": 7,
     "metadata": {},
     "output_type": "execute_result"
    }
   ],
   "source": [
    "df.tail(1)"
   ]
  },
  {
   "cell_type": "code",
   "execution_count": 8,
   "metadata": {},
   "outputs": [],
   "source": [
    "### Fun with Time Series (if you want more than daily)\n",
    "# df['year'] = df.date.dt.year\n",
    "# df['month'] = df.date.dt.month\n",
    "# df['day'] = df.date.dt.month\n",
    "# df['weekday'] = df.date.dt.day_name()"
   ]
  },
  {
   "cell_type": "code",
   "execution_count": 9,
   "metadata": {},
   "outputs": [
    {
     "data": {
      "text/plain": [
       "<matplotlib.axes._subplots.AxesSubplot at 0x7fab585fdb20>"
      ]
     },
     "execution_count": 9,
     "metadata": {},
     "output_type": "execute_result"
    },
    {
     "data": {
      "image/png": "[encoded data removed]",
      "text/plain": [
       "<Figure size 432x288 with 1 Axes>"
      ]
     },
     "metadata": {
      "needs_background": "light"
     },
     "output_type": "display_data"
    }
   ],
   "source": [
    "import seaborn as sns\n",
    "#df['day'] = df.observation_time.dt.day\n",
    "ax = sns.violinplot(x=\"month\", y=\"temp_degree_c\",\n",
    "                    data=df, palette=\"muted\")\n",
    "\n",
    "ax"
   ]
  },
  {
   "cell_type": "code",
   "execution_count": 10,
   "metadata": {},
   "outputs": [],
   "source": [
    "# import numpy as np\n",
    "# import holoviews as hv\n",
    "# from holoviews import opts\n",
    "# hv.extension('bokeh')\n",
    "\n",
    "# np.random.seed(37)\n",
    "# violin = hv.Violin(np.random.randn(100), vdims='Value')\n",
    "# violin"
   ]
  },
  {
   "cell_type": "code",
   "execution_count": 11,
   "metadata": {},
   "outputs": [],
   "source": [
    "# import numpy as np\n",
    "# import holoviews as hv\n",
    "# from holoviews import opts\n",
    "# hv.extension('bokeh')\n",
    "# violin = hv.Violin(df, 'day', 'temp_degree_c')\n",
    "# violin.opts(opts.Violin(height=400, show_legend=True, width=600))"
   ]
  },
  {
   "cell_type": "code",
   "execution_count": 12,
   "metadata": {},
   "outputs": [],
   "source": [
    "# def remote_jupyter_proxy_url(port):\n",
    "#     \"\"\"\n",
    "#     Callable to configure Bokeh's show method when a proxy must be\n",
    "#     configured.\n",
    "\n",
    "#     If port is None we're asking about the URL\n",
    "#     for the origin header.\n",
    "#     \"\"\"\n",
    "#     base_url = os.environ['http://localhost:8888/notebooks/Climacell%20API.ipynb']\n",
    "#     host = urllib.parse.urlparse(base_url).netloc\n",
    "\n",
    "#     # If port is None we're asking for the URL origin\n",
    "#     # so return the public hostname.\n",
    "#     if port is None:\n",
    "#         return host\n",
    "\n",
    "#     service_url_path = os.environ['JUPYTERHUB_SERVICE_PREFIX']\n",
    "#     proxy_url_path = 'proxy/%d' % port\n",
    "\n",
    "#     user_url = urllib.parse.urljoin(base_url, service_url_path)\n",
    "#     full_url = urllib.parse.urljoin(user_url, proxy_url_path)\n",
    "#     return full_url"
   ]
  },
  {
   "cell_type": "code",
   "execution_count": null,
   "metadata": {},
   "outputs": [],
   "source": []
  },
  {
   "cell_type": "code",
   "execution_count": 13,
   "metadata": {},
   "outputs": [],
   "source": [
    "# import requests\n",
    "# import pandas as pd\n",
    "# import matplotlib.pyplot as plt\n",
    "# from env import key, client\n",
    "# import datetime\n",
    "# from datetime import date\n",
    "# from datetime import datetime, timedelta\n",
    "# from dateutil.relativedelta import *\n",
    "\n",
    "# import re\n",
    "\n",
    "# import json\n",
    "\n",
    "# import climacell_api \n",
    "# import wrangle"
   ]
  },
  {
   "cell_type": "code",
   "execution_count": 14,
   "metadata": {},
   "outputs": [],
   "source": [
    "# # This request is the San Antonio Botanical Garden. It returns realtime data for the identified fields.\n",
    "# response = client.realtime(lat= 29.4576, lon=98.4587, \n",
    "#                            fields=['precipitation', 'temp', 'humidity', 'wind_speed', 'cloud_cover'])\n",
    "# # Returns status code (Query Successful or Not)\n",
    "# print(response.status_code)\n",
    "# # Create df of results to visualize\n",
    "# data = response.json()\n",
    "# df = pd.DataFrame(data)\n",
    "# df.head()"
   ]
  },
  {
   "cell_type": "code",
   "execution_count": 15,
   "metadata": {},
   "outputs": [],
   "source": [
    "# #from climacell_api import ClimacellApiClient\n",
    "# r = client.historical_station(lat=40, lon=50, start_time='2021-01-22T20:47:00Z', end_time='now', fields=['temp', 'wind_gust'])\n",
    "# r.status_code"
   ]
  },
  {
   "cell_type": "markdown",
   "metadata": {},
   "source": [
    "## Historical Climacell\n",
    "`Data returned is a list of forecast data for a specific location up to 6 hours in the past.`"
   ]
  },
  {
   "cell_type": "code",
   "execution_count": 16,
   "metadata": {},
   "outputs": [],
   "source": [
    "# stop = datetime.now().isoformat()\n",
    "# start = (datetime.now() - timedelta(hours=6)).isoformat()\n",
    "\n",
    "# url = \"https://api.climacell.co/v3/weather/historical/climacell\"\n",
    "\n",
    "# querystring = {'lat': 40, \n",
    "#                'lon': 50,\n",
    "#                \"timestep\":30,\n",
    "#                \"unit_system\":\"si\",\n",
    "#                \"apikey\":key, \n",
    "#                \"start_time\": start, \n",
    "#                \"end_time\": stop }\n",
    "\n",
    "# response = requests.request(\"GET\", url, params=querystring)\n",
    "# data = response.json()\n",
    "# df_clima = pd.DataFrame(data)\n",
    "# df_clima.head(5)"
   ]
  },
  {
   "cell_type": "markdown",
   "metadata": {},
   "source": [
    "## Historical Station\n",
    "`24 hours in the past'"
   ]
  },
  {
   "cell_type": "code",
   "execution_count": 17,
   "metadata": {},
   "outputs": [],
   "source": [
    "# import pandas as pd\n",
    "# import numpy as np\n",
    "# import requests\n",
    "# import os\n",
    "# from env import key, client\n",
    "# import scipy as sp \n",
    "# import datetime\n",
    "# from datetime import date\n",
    "# from datetime import datetime, timedelta\n",
    "# from dateutil.relativedelta import *"
   ]
  },
  {
   "cell_type": "code",
   "execution_count": 18,
   "metadata": {},
   "outputs": [],
   "source": [
    "# def api_get():\n",
    "#     stop = datetime.now().isoformat()\n",
    "#     start = (datetime.now() - relativedelta(days=1)).isoformat()\n",
    "\n",
    "#     url = \"https://api.climacell.co/v3/weather/historical/station\"\n",
    "\n",
    "#     querystring = {'lat': 30, \n",
    "#                'lon': 40,\n",
    "#                \"unit_system\":\"si\",\n",
    "#                \"apikey\": key,\n",
    "#                \"start_time\": start, \n",
    "#                \"end_time\": stop,\n",
    "#                \"fields\":['temp','wind_speed','precipitation','baro_pressure'],\n",
    "#               }\n",
    "\n",
    "#     response = requests.request(\"GET\", url, params=querystring)\n",
    "#     data = response.json()\n",
    "#     df = pd.DataFrame(data)\n",
    "#     return df\n",
    "\n",
    "# def data_clean(df):\n",
    "#     #Modify Temp\n",
    "#     df['temp'] = df['temp'].astype(str)\n",
    "#     df['temp_degree_c']=df['temp'].str.extract(r'(\\d+)')\n",
    "#     df.drop(columns =['temp'], inplace = True)\n",
    "#     #Modify Baro-Pressure\n",
    "#     df['baro_pressure'] = df['baro_pressure'].astype(str)\n",
    "#     df['baro_pressure_hPa']=df['baro_pressure'].str.extract(r'(\\d+)')\n",
    "#     df.drop(columns =['baro_pressure'], inplace = True)\n",
    "#     #Modify Wind_speed\n",
    "#     df['wind_speed'] = df['wind_speed'].astype(str)\n",
    "#     df['wind_speed_m/s']=df['wind_speed'].str.extract(r'(\\d+)')\n",
    "#     df.drop(columns =['wind_speed'], inplace = True)\n",
    "#     #Modify preciatation\n",
    "#     df['precipitation'] = df['precipitation'].astype(str)\n",
    "#     df['precipitation_mm/hr']=df['precipitation'].str.extract(r'(\\d+)')\n",
    "#     df.drop(columns =['precipitation'], inplace = True)\n",
    "#     #Modify observation_time\n",
    "#     df['observation_time']= df['observation_time'].astype(str)\n",
    "#     df['observation_time']= df['observation_time'].str.extract(r'(\\d+.\\d+.\\d+\\d+.\\d+.\\d+)')\n",
    "#     df['observation_time']= df['observation_time'].str.replace('T',' ')\n",
    "#     df['precipitation_mm/hr'] = df['precipitation_mm/hr'].fillna(0)\n",
    "#     return df\n",
    "\n",
    "# def get_climacell_data():\n",
    "#     df = api_get()\n",
    "#     df = data_clean(df)\n",
    "#     df_old = pd.read_csv('climate_data.csv', index_col=0)\n",
    "#     merge = [df_old, df]\n",
    "#     df = pd.concat(merge)\n",
    "#     df.to_csv('climate_data.csv')\n",
    "#     return df\n"
   ]
  },
  {
   "cell_type": "markdown",
   "metadata": {},
   "source": [
    "#### Test for Thursday"
   ]
  },
  {
   "cell_type": "code",
   "execution_count": 19,
   "metadata": {},
   "outputs": [],
   "source": [
    "# import pandas as pd\n",
    "# df = pd.read_csv('climate_data.csv')\n",
    "# df.shape"
   ]
  },
  {
   "cell_type": "code",
   "execution_count": 20,
   "metadata": {},
   "outputs": [],
   "source": [
    "# import wrangle\n",
    "# df = wrangle.get_climacell_data()\n",
    "# df.shape"
   ]
  },
  {
   "cell_type": "code",
   "execution_count": 21,
   "metadata": {},
   "outputs": [],
   "source": [
    "# # sorting by first name \n",
    "# df.sort_values(\"observation_time\", inplace = True) \n",
    "  \n",
    "# # dropping ALL duplicte values \n",
    "# df.drop_duplicates(subset =\"observation_time\", \n",
    "#                      keep = False, inplace = True) \n",
    "# df.shape"
   ]
  },
  {
   "cell_type": "code",
   "execution_count": 22,
   "metadata": {},
   "outputs": [],
   "source": [
    "# df['observation_time'] =  pd.to_datetime(df['observation_time'])\n",
    "# df.info()"
   ]
  },
  {
   "cell_type": "code",
   "execution_count": 23,
   "metadata": {},
   "outputs": [],
   "source": [
    "# df.tail(27)"
   ]
  },
  {
   "cell_type": "code",
   "execution_count": 24,
   "metadata": {},
   "outputs": [],
   "source": [
    "# df = pd.read_csv('climate_data.csv')\n",
    "# df.reset_index(drop = True)\n",
    "# df.drop(columns =['Unnamed: 0'], inplace = True)\n",
    "# df.shape"
   ]
  },
  {
   "cell_type": "code",
   "execution_count": 25,
   "metadata": {},
   "outputs": [],
   "source": [
    "# df.info()"
   ]
  },
  {
   "cell_type": "code",
   "execution_count": 26,
   "metadata": {},
   "outputs": [],
   "source": [
    "# stop = datetime.now().isoformat()\n",
    "# start = (datetime.now() - relativedelta(days=1)).isoformat()\n",
    "\n",
    "# url = \"https://api.climacell.co/v3/weather/historical/station\"\n",
    "\n",
    "# querystring = {'lat': 30, \n",
    "#                'lon': 40,\n",
    "#                \"unit_system\":\"si\",\n",
    "#                \"apikey\":key,\n",
    "#                \"start_time\": start, \n",
    "#                \"end_time\": stop,\n",
    "#                \"fields\":['temp','wind_speed','precipitation','baro_pressure'],\n",
    "#               }\n",
    "\n",
    "\n",
    "# response = requests.request(\"GET\", url, params=querystring)\n",
    "# data = response.json()\n",
    "# df_hist = pd.DataFrame(data)\n",
    "# df_hist.head(5)\n",
    "# # #df_hist.to_csv('climate_data.csv')"
   ]
  },
  {
   "cell_type": "markdown",
   "metadata": {},
   "source": [
    "### Unpack Column and turn it in to individual colums in data frame"
   ]
  },
  {
   "cell_type": "code",
   "execution_count": 27,
   "metadata": {},
   "outputs": [],
   "source": [
    "# df_hist.info()"
   ]
  },
  {
   "cell_type": "code",
   "execution_count": 28,
   "metadata": {},
   "outputs": [],
   "source": [
    "# df_hist['temp'] = df_hist['temp'].astype(str)"
   ]
  },
  {
   "cell_type": "code",
   "execution_count": 29,
   "metadata": {},
   "outputs": [],
   "source": [
    "# df_hist.info()"
   ]
  },
  {
   "cell_type": "code",
   "execution_count": 30,
   "metadata": {},
   "outputs": [],
   "source": [
    "# #Modify Temp\n",
    "# df_hist['temp'] = df_hist['temp'].astype(str)\n",
    "# df_hist['temp_degree_c']=df_hist['temp'].str.extract(r'(\\d+)')\n",
    "# df_hist.drop(columns =['temp'], inplace = True)\n",
    "# #Modify Baro-Pressure\n",
    "# df_hist['baro_pressure'] = df_hist['baro_pressure'].astype(str)\n",
    "# df_hist['baro_pressure_hPa']=df_hist['baro_pressure'].str.extract(r'(\\d+)')\n",
    "# df_hist.drop(columns =['baro_pressure'], inplace = True)\n",
    "# #Modify Wind_speed\n",
    "# df_hist['wind_speed'] = df_hist['wind_speed'].astype(str)\n",
    "# df_hist['wind_speed_m/s']=df_hist['wind_speed'].str.extract(r'(\\d+)')\n",
    "# df_hist.drop(columns =['wind_speed'], inplace = True)\n",
    "# #Modify preciatation\n",
    "# df_hist['precipitation'] = df_hist['precipitation'].astype(str)\n",
    "# df_hist['precipitation_mm/hr']=df_hist['precipitation'].str.extract(r'(\\d+)')\n",
    "# df_hist.drop(columns =['precipitation'], inplace = True)\n",
    "# #Modify observation_time\n",
    "# df_hist['observation_time']= df_hist['observation_time'].astype(str)\n",
    "# df_hist['observation_time']= df_hist['observation_time'].str.extract(r'(\\d+.\\d+.\\d+\\d+.\\d+.\\d+)')\n",
    "# df_hist['observation_time']= df_hist['observation_time'].str.replace('T',' ')\n",
    "# df_hist['precipitation_mm/hr'] = df_hist['precipitation_mm/hr'].fillna(0)\n",
    "# df_hist.head()"
   ]
  },
  {
   "cell_type": "code",
   "execution_count": null,
   "metadata": {},
   "outputs": [],
   "source": []
  },
  {
   "cell_type": "code",
   "execution_count": 31,
   "metadata": {},
   "outputs": [],
   "source": [
    "# df_hist.info()"
   ]
  },
  {
   "cell_type": "markdown",
   "metadata": {},
   "source": [
    "#### Dictionary to Unpack"
   ]
  },
  {
   "cell_type": "code",
   "execution_count": 32,
   "metadata": {},
   "outputs": [],
   "source": [
    "# temp.drop(columns=['units'], inplace = True)\n",
    "# temp_df = pd.DataFrame(temp)\n",
    "# temp_df\n",
    "# tf = pd.DataFrame([\n",
    "#         {'id': 1, 'nested': {'a': 1, 'b': 2} },\n",
    "#         {'id': 2, 'nested': {'a': 2, 'b': 4} },\n",
    "#         {'id': 3, 'nested': {'a': 3, 'b': 6} },\n",
    "#         {'id': 4, 'nested': {'a': 4}},\n",
    "#     ])\n",
    "# tf.head()"
   ]
  },
  {
   "cell_type": "markdown",
   "metadata": {},
   "source": [
    "#### Function to Unpack and Create Columns"
   ]
  },
  {
   "cell_type": "code",
   "execution_count": 33,
   "metadata": {
    "scrolled": true
   },
   "outputs": [],
   "source": [
    "# def unpack(df, column, fillna=None):\n",
    "#     ret = None\n",
    "#     if fillna is None:\n",
    "#         ret = pd.concat([df, pd.DataFrame((d for idx, d in df[column].iteritems()))], axis=1)\n",
    "#         del ret[column]\n",
    "#     else:\n",
    "#         ret = pd.concat([df, pd.DataFrame((d for idx, d in df[column].iteritems())).fillna(fillna)], axis=1)\n",
    "#         del ret[column]\n",
    "#     return ret\n",
    "\n",
    "# unpack(tf, 'nested', 0)"
   ]
  },
  {
   "cell_type": "code",
   "execution_count": 34,
   "metadata": {},
   "outputs": [],
   "source": [
    "# df = pd.concat([df, pd.DataFrame(list(df['run_info'])).fillna(0).astype(int)], axis=1)"
   ]
  },
  {
   "cell_type": "markdown",
   "metadata": {},
   "source": [
    "### Append to DF"
   ]
  },
  {
   "cell_type": "code",
   "execution_count": 35,
   "metadata": {},
   "outputs": [],
   "source": [
    "# result = pd.concat([df_hist, temp], axis=1)\n",
    "# result"
   ]
  },
  {
   "cell_type": "code",
   "execution_count": 36,
   "metadata": {},
   "outputs": [],
   "source": [
    "# now = datetime.now()\n",
    "# year = '{:02d}'.format(now.year)\n",
    "# month = '{:02d}'.format(now.month)\n",
    "# day = '{:02d}'.format(now.day)\n",
    "# hour = '{:02d}'.format(now.hour)\n",
    "# minute = '{:02d}'.format(now.minute)\n",
    "# day_month_year_hour_now = '{}-{}-{}-{}'.format(year, month, day, hour)\n",
    "# day_month_year_hour_now"
   ]
  },
  {
   "cell_type": "code",
   "execution_count": 37,
   "metadata": {},
   "outputs": [],
   "source": [
    "# six_hour_ago = datetime.now() - timedelta(hours=6)\n",
    "# year = '{:02d}'.format(six_hour_ago.year)\n",
    "# month = '{:02d}'.format(six_hour_ago.month)\n",
    "# day = '{:02d}'.format(six_hour_ago.day)\n",
    "# hour = '{:02d}'.format(six_hour_ago.hour)\n",
    "# minute = '{:02d}'.format(six_hour_ago.minute)\n",
    "# day_month_year_hour_past = '{}-{}-{}-{}'.format(year, month, day, hour)\n",
    "# day_month_year_hour_past"
   ]
  },
  {
   "cell_type": "code",
   "execution_count": 38,
   "metadata": {},
   "outputs": [],
   "source": [
    "# start = datetime.now().isoformat()\n",
    "# start"
   ]
  },
  {
   "cell_type": "code",
   "execution_count": 39,
   "metadata": {},
   "outputs": [],
   "source": [
    "# stop = (datetime.now() - relativedelta(months=4)).isoformat()\n",
    "# stop"
   ]
  },
  {
   "cell_type": "markdown",
   "metadata": {},
   "source": [
    "#### Panel Library "
   ]
  },
  {
   "cell_type": "code",
   "execution_count": 40,
   "metadata": {},
   "outputs": [],
   "source": [
    "# import panel as pn\n",
    "# def f(x): return x * x\n",
    "# pn.extension()\n",
    "# pn.interact(f, x=10)"
   ]
  },
  {
   "cell_type": "code",
   "execution_count": 41,
   "metadata": {},
   "outputs": [
    {
     "ename": "NameError",
     "evalue": "name 'pn' is not defined",
     "output_type": "error",
     "traceback": [
      "\u001b[0;31m---------------------------------------------------------------------------\u001b[0m",
      "\u001b[0;31mNameError\u001b[0m                                 Traceback (most recent call last)",
      "\u001b[0;32m<ipython-input-41-d00277651256>\u001b[0m in \u001b[0;36m<module>\u001b[0;34m\u001b[0m\n\u001b[0;32m----> 1\u001b[0;31m temp = pn.widgets.IntRangeSlider(name= 'Temp Range Slider', \n\u001b[0m\u001b[1;32m      2\u001b[0m                                  \u001b[0mwidth\u001b[0m\u001b[0;34m=\u001b[0m \u001b[0;36m250\u001b[0m\u001b[0;34m,\u001b[0m \u001b[0mstart\u001b[0m\u001b[0;34m=\u001b[0m\u001b[0;36m7\u001b[0m\u001b[0;34m,\u001b[0m \u001b[0mend\u001b[0m\u001b[0;34m=\u001b[0m\u001b[0;36m26\u001b[0m\u001b[0;34m,\u001b[0m\u001b[0;34m\u001b[0m\u001b[0;34m\u001b[0m\u001b[0m\n\u001b[1;32m      3\u001b[0m                                  \u001b[0mvalue\u001b[0m\u001b[0;34m=\u001b[0m\u001b[0;34m(\u001b[0m\u001b[0;36m7\u001b[0m\u001b[0;34m,\u001b[0m \u001b[0;36m26\u001b[0m\u001b[0;34m)\u001b[0m\u001b[0;34m,\u001b[0m\u001b[0;34m\u001b[0m\u001b[0;34m\u001b[0m\u001b[0m\n\u001b[1;32m      4\u001b[0m                                  value_throttled=(7, 26))\n\u001b[1;32m      5\u001b[0m \u001b[0mtemp\u001b[0m\u001b[0;34m\u001b[0m\u001b[0;34m\u001b[0m\u001b[0m\n",
      "\u001b[0;31mNameError\u001b[0m: name 'pn' is not defined"
     ]
    }
   ],
   "source": [
    "temp = pn.widgets.IntRangeSlider(name= 'Temp Range Slider', \n",
    "                                 width= 250, start=7, end=26, \n",
    "                                 value=(7, 26), \n",
    "                                 value_throttled=(7, 26))\n",
    "temp"
   ]
  },
  {
   "cell_type": "markdown",
   "metadata": {},
   "source": [
    "# Panel Project"
   ]
  },
  {
   "cell_type": "code",
   "execution_count": null,
   "metadata": {},
   "outputs": [],
   "source": [
    "import pandas as pd \n",
    "import param\n",
    "import numpy as np\n",
    "import matplotlib.pyplot as plt\n",
    "import seaborn as sns\n",
    "import panel as pn\n",
    "import hvplot as hv\n",
    "import warnings\n",
    "warnings.filterwarnings(\"ignore\")\n",
    "\n",
    "# create a data set of animal ratings\n",
    "df_test = pd.DataFrame({'Animal':['Pig', 'Goat' ,'Sheep', 'Frog', 'Goat', 'Goat', 'Pig', 'Sheep', 'Octopus'], \n",
    "                   'Rating':[3, 10, 3, 2, 9, 10, 4, 1, 1]})\n",
    "\n",
    "df_test.head()"
   ]
  },
  {
   "cell_type": "markdown",
   "metadata": {},
   "source": [
    "# Define the holoviz panel parameter selector and plots in a class"
   ]
  },
  {
   "cell_type": "code",
   "execution_count": null,
   "metadata": {},
   "outputs": [],
   "source": [
    "class RatingsDashboard(param.Parameterized):\n",
    "\n",
    "    # widget containing the list of animals\n",
    "    Animal = param.ObjectSelector(default='Goat', objects=list(df_test.Animal.unique()))\n",
    "\n",
    "    def get_data(self):\n",
    "        class_df = df_test[(df_test.Animal==self.Animal)].copy()\n",
    "        return class_df\n",
    "\n",
    "    # seaborn box plot for chose animal\n",
    "    def box_view(self):\n",
    "        data = self.get_data()\n",
    "        ax = sns.boxplot(data['Rating'])\n",
    "        plt.close()\n",
    "        return ax.figure\n",
    "\n",
    "    def table_view(self):\n",
    "        data = self.get_data()\n",
    "        return data"
   ]
  },
  {
   "cell_type": "markdown",
   "metadata": {},
   "source": [
    "# Create an instance of the class"
   ]
  },
  {
   "cell_type": "code",
   "execution_count": null,
   "metadata": {},
   "outputs": [],
   "source": [
    "rd = RatingsDashboard(name='')\n",
    "\n",
    "# Create title for the dashboard\n",
    "dashboard_title = '# Animal Ratings Dashboard'\n",
    "\n",
    "# Create some text describing the dashboard\n",
    "dashboard_desc = 'An example of a simple interactive HoloViz Panel dashbard using a dummy data set of animal ratings.'\n",
    "\n",
    "# Create a dashboard, defining the layout as one column containing\n",
    "# the dashboard title, dashboard description, 'Animal' drop down selector,\n",
    "# box plot, and data table\n",
    "dashboard = pn.Column(dashboard_title,\n",
    "                      dashboard_desc,\n",
    "                      rd.param, # animal drop down selector\n",
    "                      rd.box_view, # Box Plot\n",
    "                      rd.table_view # Data Table\n",
    "                     )\n",
    "\n",
    "dashboard.embed(max_opts = 5) # provides access to all 5 animals"
   ]
  },
  {
   "cell_type": "raw",
   "metadata": {},
   "source": [
    "<!–– Hide JupyterNotebook cell numbers etc ––!>\n",
    "<script>\n",
    "  $(document).ready(function(){\n",
    "    $('div.prompt').hide();\n",
    "    $('div.back-to-top').hide();\n",
    "    $('nav#menubar').hide();\n",
    "    $('.breadcrumb').hide();\n",
    "    $('.hidden-print').hide();\n",
    "  });\n",
    "</script><footer id=\"attribution\" style=\"float:right; color:#999; background:#fff;\">\n",
    "Attribution: Created with Jupyter. Code toggle possible thanks to github.com/csaid.\n",
    "</footer>"
   ]
  }
 ],
 "metadata": {
  "kernelspec": {
   "display_name": "Python 3",
   "language": "python",
   "name": "python3"
  },
  "language_info": {
   "codemirror_mode": {
    "name": "ipython",
    "version": 3
   },
   "file_extension": ".py",
   "mimetype": "text/x-python",
   "name": "python",
   "nbconvert_exporter": "python",
   "pygments_lexer": "ipython3",
   "version": "3.8.5"
  }
 },
 "nbformat": 4,
 "nbformat_minor": 4
}
