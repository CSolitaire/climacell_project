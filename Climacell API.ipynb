{
 "cells": [
  {
   "cell_type": "code",
   "execution_count": 1,
   "metadata": {},
   "outputs": [],
   "source": [
    "import requests\n",
    "import pandas as pd\n",
    "import matplotlib.pyplot as plt\n",
    "from env import key, client\n",
    "import datetime\n",
    "from datetime import date\n",
    "from datetime import datetime, timedelta\n",
    "from dateutil.relativedelta import *\n",
    "\n",
    "import re\n",
    "\n",
    "import json\n",
    "\n",
    "import climacell_api \n",
    "import wrangle"
   ]
  },
  {
   "cell_type": "code",
   "execution_count": 2,
   "metadata": {},
   "outputs": [
    {
     "data": {
      "text/html": [
       "<div>\n",
       "<style scoped>\n",
       "    .dataframe tbody tr th:only-of-type {\n",
       "        vertical-align: middle;\n",
       "    }\n",
       "\n",
       "    .dataframe tbody tr th {\n",
       "        vertical-align: top;\n",
       "    }\n",
       "\n",
       "    .dataframe thead th {\n",
       "        text-align: right;\n",
       "    }\n",
       "</style>\n",
       "<table border=\"1\" class=\"dataframe\">\n",
       "  <thead>\n",
       "    <tr style=\"text-align: right;\">\n",
       "      <th></th>\n",
       "      <th>observation_time</th>\n",
       "      <th>temp_degree_c</th>\n",
       "      <th>baro_pressure_hPa</th>\n",
       "      <th>wind_speed_m/s</th>\n",
       "      <th>precipitation_mm/hr</th>\n",
       "    </tr>\n",
       "  </thead>\n",
       "  <tbody>\n",
       "    <tr>\n",
       "      <th>0</th>\n",
       "      <td>2021-01-25 15:00:00</td>\n",
       "      <td>16</td>\n",
       "      <td>1022</td>\n",
       "      <td>0</td>\n",
       "      <td>0</td>\n",
       "    </tr>\n",
       "    <tr>\n",
       "      <th>1</th>\n",
       "      <td>2021-01-25 16:00:00</td>\n",
       "      <td>15</td>\n",
       "      <td>1022</td>\n",
       "      <td>1</td>\n",
       "      <td>0</td>\n",
       "    </tr>\n",
       "    <tr>\n",
       "      <th>2</th>\n",
       "      <td>2021-01-25 17:00:00</td>\n",
       "      <td>13</td>\n",
       "      <td>1023</td>\n",
       "      <td>1</td>\n",
       "      <td>0</td>\n",
       "    </tr>\n",
       "    <tr>\n",
       "      <th>3</th>\n",
       "      <td>2021-01-25 18:00:00</td>\n",
       "      <td>12</td>\n",
       "      <td>1023</td>\n",
       "      <td>1</td>\n",
       "      <td>0</td>\n",
       "    </tr>\n",
       "    <tr>\n",
       "      <th>4</th>\n",
       "      <td>2021-01-25 19:00:00</td>\n",
       "      <td>12</td>\n",
       "      <td>1023</td>\n",
       "      <td>2</td>\n",
       "      <td>0</td>\n",
       "    </tr>\n",
       "  </tbody>\n",
       "</table>\n",
       "</div>"
      ],
      "text/plain": [
       "     observation_time  temp_degree_c  baro_pressure_hPa  wind_speed_m/s  \\\n",
       "0 2021-01-25 15:00:00             16               1022               0   \n",
       "1 2021-01-25 16:00:00             15               1022               1   \n",
       "2 2021-01-25 17:00:00             13               1023               1   \n",
       "3 2021-01-25 18:00:00             12               1023               1   \n",
       "4 2021-01-25 19:00:00             12               1023               2   \n",
       "\n",
       "   precipitation_mm/hr  \n",
       "0                    0  \n",
       "1                    0  \n",
       "2                    0  \n",
       "3                    0  \n",
       "4                    0  "
      ]
     },
     "execution_count": 2,
     "metadata": {},
     "output_type": "execute_result"
    }
   ],
   "source": [
    "df = wrangle.get_climacell_data()\n",
    "df.head()"
   ]
  },
  {
   "cell_type": "code",
   "execution_count": null,
   "metadata": {},
   "outputs": [],
   "source": []
  },
  {
   "cell_type": "code",
   "execution_count": 5,
   "metadata": {},
   "outputs": [
    {
     "data": {
      "text/plain": [
       "(21, 5)"
      ]
     },
     "execution_count": 5,
     "metadata": {},
     "output_type": "execute_result"
    }
   ],
   "source": [
    "df.shape"
   ]
  },
  {
   "cell_type": "code",
   "execution_count": null,
   "metadata": {},
   "outputs": [],
   "source": [
    "# # This request is the San Antonio Botanical Garden. It returns realtime data for the identified fields.\n",
    "# response = client.realtime(lat= 29.4576, lon=98.4587, \n",
    "#                            fields=['precipitation', 'temp', 'humidity', 'wind_speed', 'cloud_cover'])\n",
    "# # Returns status code (Query Successful or Not)\n",
    "# print(response.status_code)\n",
    "# # Create df of results to visualize\n",
    "# data = response.json()\n",
    "# df = pd.DataFrame(data)\n",
    "# df.head()"
   ]
  },
  {
   "cell_type": "code",
   "execution_count": null,
   "metadata": {},
   "outputs": [],
   "source": [
    "# #from climacell_api import ClimacellApiClient\n",
    "# r = client.historical_station(lat=40, lon=50, start_time='2021-01-22T20:47:00Z', end_time='now', fields=['temp', 'wind_gust'])\n",
    "# r.status_code"
   ]
  },
  {
   "cell_type": "markdown",
   "metadata": {},
   "source": [
    "## Historical Climacell\n",
    "`Data returned is a list of forecast data for a specific location up to 6 hours in the past.`"
   ]
  },
  {
   "cell_type": "code",
   "execution_count": null,
   "metadata": {},
   "outputs": [],
   "source": [
    "# stop = datetime.now().isoformat()\n",
    "# start = (datetime.now() - timedelta(hours=6)).isoformat()\n",
    "\n",
    "# url = \"https://api.climacell.co/v3/weather/historical/climacell\"\n",
    "\n",
    "# querystring = {'lat': 40, \n",
    "#                'lon': 50,\n",
    "#                \"timestep\":30,\n",
    "#                \"unit_system\":\"si\",\n",
    "#                \"apikey\":key, \n",
    "#                \"start_time\": start, \n",
    "#                \"end_time\": stop }\n",
    "\n",
    "# response = requests.request(\"GET\", url, params=querystring)\n",
    "# data = response.json()\n",
    "# df_clima = pd.DataFrame(data)\n",
    "# df_clima.head(5)"
   ]
  },
  {
   "cell_type": "markdown",
   "metadata": {},
   "source": [
    "## Historical Station\n",
    "`24 hours in the past'"
   ]
  },
  {
   "cell_type": "code",
   "execution_count": null,
   "metadata": {},
   "outputs": [],
   "source": [
    "import pandas as pd\n",
    "import numpy as np\n",
    "import os\n",
    "from env import key, client\n",
    "import scipy as sp \n",
    "import datetime\n",
    "from datetime import date\n",
    "from datetime import datetime, timedelta"
   ]
  },
  {
   "cell_type": "code",
   "execution_count": null,
   "metadata": {},
   "outputs": [],
   "source": [
    "def api_get():\n",
    "    stop = datetime.now().isoformat()\n",
    "    start = (datetime.now() - relativedelta(days=1)).isoformat()\n",
    "\n",
    "    url = \"https://api.climacell.co/v3/weather/historical/station\"\n",
    "\n",
    "    querystring = {'lat': 30, \n",
    "               'lon': 40,\n",
    "               \"unit_system\":\"si\",\n",
    "               \"apikey\": key,\n",
    "               \"start_time\": start, \n",
    "               \"end_time\": stop,\n",
    "               \"fields\":['temp','wind_speed','precipitation','baro_pressure'],\n",
    "              }\n",
    "\n",
    "\n",
    "    response = requests.request(\"GET\", url, params=querystring)\n",
    "    data = response.json()\n",
    "    temp = pd.DataFrame(data)\n",
    "    df = pd.read_csv('climate_data.csv', index_col=0)\n",
    "    df.append(temp, ignore_index=True)\n",
    "    df.to_csv('climate_data.csv')\n",
    "    return df\n",
    "\n",
    "def data_clean(df):\n",
    "    #Modify Temp\n",
    "    df['temp'] = df['temp'].astype(str)\n",
    "    df['temp_degree_c']=df['temp'].str.extract(r'(\\d+)')\n",
    "    df.drop(columns =['temp'], inplace = True)\n",
    "    #Modify Baro-Pressure\n",
    "    df['baro_pressure'] = df['baro_pressure'].astype(str)\n",
    "    df['baro_pressure_hPa']=df['baro_pressure'].str.extract(r'(\\d+)')\n",
    "    df.drop(columns =['baro_pressure'], inplace = True)\n",
    "    #Modify Wind_speed\n",
    "    df['wind_speed'] = df['wind_speed'].astype(str)\n",
    "    df['wind_speed_m/s']=df['wind_speed'].str.extract(r'(\\d+)')\n",
    "    df.drop(columns =['wind_speed'], inplace = True)\n",
    "    #Modify preciatation\n",
    "    df['precipitation'] = df['precipitation'].astype(str)\n",
    "    df['precipitation_mm/hr']=df['precipitation'].str.extract(r'(\\d+)')\n",
    "    df.drop(columns =['precipitation'], inplace = True)\n",
    "    #Modify observation_time\n",
    "    df['observation_time']= df['observation_time'].astype(str)\n",
    "    df['observation_time']= df['observation_time'].str.extract(r'(\\d+.\\d+.\\d+\\d+.\\d+.\\d+)')\n",
    "    df['observation_time']= df['observation_time'].str.replace('T',' ')\n",
    "    df['precipitation_mm/hr'] = df['precipitation_mm/hr'].fillna(0)\n",
    "    return df\n",
    "\n",
    "def get_climacell_data():\n",
    "    df = api_get()\n",
    "    df = data_clean(df)\n",
    "    return df\n",
    "\n",
    "# def get_climacell_data(cached=False):\n",
    "#     '''\n",
    "#     This function reads in zillow customer data from Codeup database if cached == False \n",
    "#     or if cached == True reads in zillow df from a csv file, returns df\n",
    "#     '''\n",
    "#     if cached or os.path.isfile('zillow_df.csv') == False:\n",
    "#         df = api_get()\n",
    "#     else:\n",
    "#         df = pd.read_csv('climate_data.csv', index_col=0)\n",
    "#     return df"
   ]
  },
  {
   "cell_type": "code",
   "execution_count": null,
   "metadata": {},
   "outputs": [],
   "source": [
    "df = get_climacell_data()\n",
    "df.head()"
   ]
  },
  {
   "cell_type": "code",
   "execution_count": null,
   "metadata": {},
   "outputs": [],
   "source": [
    "df.shape"
   ]
  },
  {
   "cell_type": "code",
   "execution_count": null,
   "metadata": {},
   "outputs": [],
   "source": [
    "stop = datetime.now().isoformat()\n",
    "start = (datetime.now() - relativedelta(days=1)).isoformat()\n",
    "\n",
    "url = \"https://api.climacell.co/v3/weather/historical/station\"\n",
    "\n",
    "querystring = {'lat': 30, \n",
    "               'lon': 40,\n",
    "               \"unit_system\":\"si\",\n",
    "               \"apikey\":key,\n",
    "               \"start_time\": start, \n",
    "               \"end_time\": stop,\n",
    "               \"fields\":['temp','wind_speed','precipitation','baro_pressure'],\n",
    "              }\n",
    "\n",
    "\n",
    "response = requests.request(\"GET\", url, params=querystring)\n",
    "data = response.json()\n",
    "df_hist = pd.DataFrame(data)\n",
    "df_hist.head(5)\n",
    "# #df_hist.to_csv('climate_data.csv')"
   ]
  },
  {
   "cell_type": "code",
   "execution_count": null,
   "metadata": {},
   "outputs": [],
   "source": [
    "df_hist.precipitation"
   ]
  },
  {
   "cell_type": "markdown",
   "metadata": {},
   "source": [
    "### Unpack Column and turn it in to individual colums in data frame"
   ]
  },
  {
   "cell_type": "code",
   "execution_count": null,
   "metadata": {},
   "outputs": [],
   "source": [
    "df_hist.info()"
   ]
  },
  {
   "cell_type": "code",
   "execution_count": null,
   "metadata": {},
   "outputs": [],
   "source": [
    "df_hist['temp'] = df_hist['temp'].astype(str)"
   ]
  },
  {
   "cell_type": "code",
   "execution_count": null,
   "metadata": {},
   "outputs": [],
   "source": [
    "df_hist.info()"
   ]
  },
  {
   "cell_type": "code",
   "execution_count": null,
   "metadata": {},
   "outputs": [],
   "source": [
    "#Modify Temp\n",
    "df_hist['temp'] = df_hist['temp'].astype(str)\n",
    "df_hist['temp_degree_c']=df_hist['temp'].str.extract(r'(\\d+)')\n",
    "df_hist.drop(columns =['temp'], inplace = True)\n",
    "#Modify Baro-Pressure\n",
    "df_hist['baro_pressure'] = df_hist['baro_pressure'].astype(str)\n",
    "df_hist['baro_pressure_hPa']=df_hist['baro_pressure'].str.extract(r'(\\d+)')\n",
    "df_hist.drop(columns =['baro_pressure'], inplace = True)\n",
    "#Modify Wind_speed\n",
    "df_hist['wind_speed'] = df_hist['wind_speed'].astype(str)\n",
    "df_hist['wind_speed_m/s']=df_hist['wind_speed'].str.extract(r'(\\d+)')\n",
    "df_hist.drop(columns =['wind_speed'], inplace = True)\n",
    "#Modify preciatation\n",
    "df_hist['precipitation'] = df_hist['precipitation'].astype(str)\n",
    "df_hist['precipitation_mm/hr']=df_hist['precipitation'].str.extract(r'(\\d+)')\n",
    "df_hist.drop(columns =['precipitation'], inplace = True)\n",
    "#Modify observation_time\n",
    "df_hist['observation_time']= df_hist['observation_time'].astype(str)\n",
    "df_hist['observation_time']= df_hist['observation_time'].str.extract(r'(\\d+.\\d+.\\d+\\d+.\\d+.\\d+)')\n",
    "df_hist['observation_time']= df_hist['observation_time'].str.replace('T',' ')\n",
    "df_hist['precipitation_mm/hr'] = df_hist['precipitation_mm/hr'].fillna(0)\n",
    "df_hist.head()"
   ]
  },
  {
   "cell_type": "code",
   "execution_count": null,
   "metadata": {},
   "outputs": [],
   "source": []
  },
  {
   "cell_type": "code",
   "execution_count": null,
   "metadata": {},
   "outputs": [],
   "source": [
    "df_hist.info()"
   ]
  },
  {
   "cell_type": "code",
   "execution_count": null,
   "metadata": {},
   "outputs": [],
   "source": [
    "# temp = df_hist['temp'].apply(pd.Series)\n",
    "# temp.rename(columns={'value':'temp_in_c'}, inplace = True)\n",
    "# temp.head()\n",
    "\n",
    "\n",
    "def unpack(df, column, fillna=None):\n",
    "    ret = None\n",
    "    tmp = pd.DataFrame((d for idx, d in df[column].iteritems())).fillna(fillna)\n",
    "    ret = pd.concat([df.drop(column,axis=1), tmp], axis=1)\n",
    "    return ret\n",
    "\n",
    "unpack(df,'temp',0)"
   ]
  },
  {
   "cell_type": "code",
   "execution_count": null,
   "metadata": {},
   "outputs": [],
   "source": [
    "# temp.drop(columns=['units'], inplace = True)\n",
    "# temp_df = pd.DataFrame(temp)\n",
    "# temp_df\n",
    "tf = pd.DataFrame([\n",
    "        {'id': 1, 'nested': {'a': 1, 'b': 2} },\n",
    "        {'id': 2, 'nested': {'a': 2, 'b': 4} },\n",
    "        {'id': 3, 'nested': {'a': 3, 'b': 6} },\n",
    "        {'id': 4, 'nested': {'a': 4}},\n",
    "    ])\n",
    "tf.head()"
   ]
  },
  {
   "cell_type": "code",
   "execution_count": null,
   "metadata": {
    "scrolled": true
   },
   "outputs": [],
   "source": [
    "def unpack(df, column, fillna=None):\n",
    "    ret = None\n",
    "    if fillna is None:\n",
    "        ret = pd.concat([df, pd.DataFrame((d for idx, d in df[column].iteritems()))], axis=1)\n",
    "        del ret[column]\n",
    "    else:\n",
    "        ret = pd.concat([df, pd.DataFrame((d for idx, d in df[column].iteritems())).fillna(fillna)], axis=1)\n",
    "        del ret[column]\n",
    "    return ret\n",
    "\n",
    "unpack(tf, 'nested', 0)"
   ]
  },
  {
   "cell_type": "code",
   "execution_count": null,
   "metadata": {},
   "outputs": [],
   "source": [
    "df = pd.concat([df, pd.DataFrame(list(df['run_info'])).fillna(0).astype(int)], axis=1)"
   ]
  },
  {
   "cell_type": "markdown",
   "metadata": {},
   "source": [
    "### Append to DF"
   ]
  },
  {
   "cell_type": "code",
   "execution_count": null,
   "metadata": {},
   "outputs": [],
   "source": [
    "result = pd.concat([df_hist, temp], axis=1)\n",
    "result"
   ]
  },
  {
   "cell_type": "code",
   "execution_count": null,
   "metadata": {},
   "outputs": [],
   "source": [
    "now = datetime.now()\n",
    "year = '{:02d}'.format(now.year)\n",
    "month = '{:02d}'.format(now.month)\n",
    "day = '{:02d}'.format(now.day)\n",
    "hour = '{:02d}'.format(now.hour)\n",
    "minute = '{:02d}'.format(now.minute)\n",
    "day_month_year_hour_now = '{}-{}-{}-{}'.format(year, month, day, hour)\n",
    "day_month_year_hour_now"
   ]
  },
  {
   "cell_type": "code",
   "execution_count": null,
   "metadata": {},
   "outputs": [],
   "source": [
    "six_hour_ago = datetime.now() - timedelta(hours=6)\n",
    "year = '{:02d}'.format(six_hour_ago.year)\n",
    "month = '{:02d}'.format(six_hour_ago.month)\n",
    "day = '{:02d}'.format(six_hour_ago.day)\n",
    "hour = '{:02d}'.format(six_hour_ago.hour)\n",
    "minute = '{:02d}'.format(six_hour_ago.minute)\n",
    "day_month_year_hour_past = '{}-{}-{}-{}'.format(year, month, day, hour)\n",
    "day_month_year_hour_past"
   ]
  },
  {
   "cell_type": "code",
   "execution_count": null,
   "metadata": {},
   "outputs": [],
   "source": [
    "start = datetime.now().isoformat()\n",
    "start"
   ]
  },
  {
   "cell_type": "code",
   "execution_count": null,
   "metadata": {},
   "outputs": [],
   "source": [
    "stop = (datetime.now() - relativedelta(months=4)).isoformat()\n",
    "stop"
   ]
  },
  {
   "cell_type": "code",
   "execution_count": null,
   "metadata": {},
   "outputs": [],
   "source": []
  }
 ],
 "metadata": {
  "kernelspec": {
   "display_name": "Python 3",
   "language": "python",
   "name": "python3"
  },
  "language_info": {
   "codemirror_mode": {
    "name": "ipython",
    "version": 3
   },
   "file_extension": ".py",
   "mimetype": "text/x-python",
   "name": "python",
   "nbconvert_exporter": "python",
   "pygments_lexer": "ipython3",
   "version": "3.8.5"
  }
 },
 "nbformat": 4,
 "nbformat_minor": 4
}
